{
 "cells": [
  {
   "cell_type": "markdown",
   "metadata": {},
   "source": [
    "# Import utils and getting the data"
   ]
  },
  {
   "cell_type": "code",
   "execution_count": 1,
   "metadata": {},
   "outputs": [],
   "source": [
    "import io\n",
    "import os\n",
    "import re\n",
    "import shutil\n",
    "import string\n",
    "import tensorflow as tf\n",
    "\n",
    "from tensorflow.keras import Sequential\n",
    "from tensorflow.keras.layers import Dense, Embedding, GlobalAveragePooling1D\n",
    "from tensorflow.keras.layers import TextVectorization"
   ]
  },
  {
   "cell_type": "markdown",
   "metadata": {},
   "source": [
    "Download the IMDb Dataset"
   ]
  },
  {
   "cell_type": "code",
   "execution_count": 4,
   "metadata": {},
   "outputs": [
    {
     "data": {
      "text/plain": [
       "['imdb.vocab', 'imdbEr.txt', 'README', 'test', 'train']"
      ]
     },
     "execution_count": 4,
     "metadata": {},
     "output_type": "execute_result"
    }
   ],
   "source": [
    "url = \"https://ai.stanford.edu/~amaas/data/sentiment/aclImdb_v1.tar.gz\"\n",
    "\n",
    "dataset = tf.keras.utils.get_file(\"aclImdb_v1.tar.gz\", url,\n",
    "                                  untar=True, cache_dir='.',\n",
    "                                  cache_subdir='')\n",
    "\n",
    "dataset_dir = os.path.join(os.path.dirname(dataset), 'aclImdb')\n",
    "os.listdir(dataset_dir)"
   ]
  },
  {
   "cell_type": "code",
   "execution_count": 7,
   "metadata": {},
   "outputs": [
    {
     "data": {
      "text/plain": [
       "['labeledBow.feat',\n",
       " 'neg',\n",
       " 'pos',\n",
       " 'unsup',\n",
       " 'unsupBow.feat',\n",
       " 'urls_neg.txt',\n",
       " 'urls_pos.txt',\n",
       " 'urls_unsup.txt']"
      ]
     },
     "execution_count": 7,
     "metadata": {},
     "output_type": "execute_result"
    }
   ],
   "source": [
    "train_dir = os.path.join(dataset_dir, 'train')\n",
    "os.listdir(train_dir)"
   ]
  },
  {
   "cell_type": "code",
   "execution_count": 8,
   "metadata": {},
   "outputs": [],
   "source": [
    "remove_dir = os.path.join(train_dir, 'unsup')\n",
    "shutil.rmtree(remove_dir)"
   ]
  },
  {
   "cell_type": "markdown",
   "metadata": {},
   "source": [
    "# Create Train and validation Datasets"
   ]
  },
  {
   "cell_type": "code",
   "execution_count": 9,
   "metadata": {},
   "outputs": [
    {
     "name": "stdout",
     "output_type": "stream",
     "text": [
      "Found 25000 files belonging to 2 classes.\n",
      "Using 20000 files for training.\n",
      "Found 25000 files belonging to 2 classes.\n",
      "Using 5000 files for validation.\n"
     ]
    }
   ],
   "source": [
    "batch_size = 1024\n",
    "seed = 123\n",
    "train_ds = tf.keras.utils.text_dataset_from_directory(\n",
    "    'aclImdb/train', batch_size=batch_size, validation_split=0.2,\n",
    "    subset='training', seed=seed)\n",
    "val_ds = tf.keras.utils.text_dataset_from_directory(\n",
    "    'aclImdb/train', batch_size=batch_size, validation_split=0.2,\n",
    "    subset='validation', seed=seed)"
   ]
  },
  {
   "cell_type": "markdown",
   "metadata": {},
   "source": [
    "## Explore the data set"
   ]
  },
  {
   "cell_type": "code",
   "execution_count": 21,
   "metadata": {},
   "outputs": [
    {
     "name": "stdout",
     "output_type": "stream",
     "text": [
      "\n",
      " Text: \n",
      " tf.Tensor(b\"Paulie sounds like the most saccharine, lachrymose and sentimental garbage you could ever find, yet it's actually much better than you might expect. The daftness of the plot could so easily have set the tone for the whole film, but actually in most other departments the film is charming.<br /><br />In case you're wondering, Paulie is a parrot. Bought for a little girl with speech difficulties, Paulie becomes her best friend and goes everywhere with her. He even sits on her shoulder during speech therapy lessons, and eventually becomes a super-intelligent speaker himself. However, Paulie is sent away by the little girl's mother and he spends the rest of the film trying to get from N.Y.C to L.A to be re-united with her.<br /><br />So, why does this awful-sounding film succeed relatively well? Firstly, it boasts some interesting and impressive animatronic effects. Secondly (and far more significantly) it has the courage to embrace its ludicrous premise and tells a genuinely moving, often humourous story without worrying too much about the obvious flaws in the storyline. Thirdly, it has several surprisingly strong performances, including Jay Mohr as a wily crook, Gena Rowlands as a kind old lady, and Cheech Marin (yes, the dope-smoking Cheech Marin!) as a musical immigrant. It might not be a classic, but Paulie is sound entertainment for kids of all ages.\", shape=(), dtype=string) \n",
      "\n",
      "Labels: \n",
      " tf.Tensor(1, shape=(), dtype=int32)\n",
      "\n",
      " Text: \n",
      " tf.Tensor(b'The original title means \"The Birth of the Octopuses\". I must confess that I do not quite understand this title. The English title is \"Water Lilies\". But after having written this, I read the comment by another user: \"The title in French is also suggestive: \"prieuve\", or octopus, suggest an individual having to juggle many pressures simultaneously.\" Thanks for your explanation.<br /><br />The basic theme is the first sexual emotions of girls, when it is not clear if they are directed toward the same or the other sex. It is no different for boys. I think that both Floriane and Marie will eventually have heterosexual feelings without any admixtures.<br /><br />Much of the movie is water ballet. Sometimes the girls will have their heads downwards, and nothing above the water except their feet and lowers legs, with which they will wave and kick in the air. To people like me who had never seen such things before, it was fascinating. - Floriane is the leader of one team of \"water lilies\". <br /><br />Marie tells her that she would like to see when Floriane is training. This seems to be their first contact that is not just ordinary. Soon they will walk together. Floriane takes Marie to a garage where a boy is waiting for her, and then goes away with him for an hour, while Marie is waiting for her to return. I took for granted that the couple slept with each other. But we will later learn from the movie that they do less than that. <br /><br />I can supply some information which few users will find elsewhere. There is a scene in which Marie secretly steals Floriane\\'s garbage bag. In it she finds an apple, mostly eaten. And Marie proceeds to eat the rest. \\xc2\\x96 There is a parallel scene in another movie, \"Kazetachi no gogo\" (Afternoon Breezes) by Hitoshi Yazaki (Japan, 1980). This is about adult young females, and a clearly Lesbian woman is vainly in love with a heterosexual woman. She also steals a garbage bag of the beloved, and also finds a more or less eaten apple and eats the rest. <br /><br />Later Floriane tells Marie that she would like to have her first orgasm from her. Marie says she cannot do this. <br /><br />But still later Marie says that she is indeed willing to do it. And she masturbates on Floriane. There is no nudity in this scene. <br /><br />Probably only a female director could have made such a fine psychological show or study of \\xc2\\x96 I would like to quote Baudelaire, \"Les amours enfantines\".<br /><br />Floriane is played by Ad\\xc3\\xa8le Haenel, who made the excellent performance as the autistic girl in \"The Little Devils\" by Christophe Ruggia (2002) \\xc2\\x96 a very underrated movie.', shape=(), dtype=string) \n",
      "\n",
      "Labels: \n",
      " tf.Tensor(1, shape=(), dtype=int32)\n",
      "\n",
      " Text: \n",
      " tf.Tensor(b'This is the biggest piece of lamo I\\'ve ever watched. It is excruciatingly boring I would have rather sat through a seminar on creationism than have watched this if i had known it was going to be as boring as it was. Not even the 40 seconds of the hot chick in the bikini with the big ta tas redeems this of anything lower than a 1.<br /><br />The reviews of this movie claiming that this movie is \"unintentionally funny\" are absurd and just plain WRONG. Not one thing is funny about this movie. they spend the first 50 or so minutes walking through the woods talking about stuff you wouldn\\'t understand nor care about and it is just as lame when the people start dying because you don\\'t even know who the people are because they are so UNINTERESTING. Honestly though, I didn\\'t watch it to the ending, but that should say something about how horrible it is. WORST MOVIE EVER.<br /><br />Immediately after ejecting this filth from my DVD player I started scraping it against the cement in front of my house, not wanting other blockbuster customers to have to fall upon the same mistake i had made as to rent this movie. Then Zach peed his pants. Thankyou for your time.', shape=(), dtype=string) \n",
      "\n",
      "Labels: \n",
      " tf.Tensor(1, shape=(), dtype=int32)\n"
     ]
    }
   ],
   "source": [
    "for text_batch, label in train_ds.take(1):\n",
    "    for i in range(3):\n",
    "        print('\\n','Text:','\\n', text_batch[i], '\\n')\n",
    "        print('Labels:', '\\n', label[1])"
   ]
  },
  {
   "cell_type": "markdown",
   "metadata": {},
   "source": [
    "Notice the reviews contain raw text (with punctuation and occasional HTML tags like *< br/ >*)."
   ]
  },
  {
   "cell_type": "code",
   "execution_count": 22,
   "metadata": {},
   "outputs": [
    {
     "name": "stdout",
     "output_type": "stream",
     "text": [
      "Label 0 corresponds to neg\n",
      "Label 1 corresponds to pos\n"
     ]
    }
   ],
   "source": [
    "print(\"Label 0 corresponds to\", train_ds.class_names[0])\n",
    "print(\"Label 1 corresponds to\", train_ds.class_names[1])"
   ]
  },
  {
   "cell_type": "markdown",
   "metadata": {},
   "source": [
    "# Prepare the dataset for training"
   ]
  },
  {
   "cell_type": "markdown",
   "metadata": {},
   "source": [
    "We will standardize, tokenize, and vectorize the data using the helpful [tf.keras.layers.TextVectorization](https://www.tensorflow.org/api_docs/python/tf/keras/layers/TextVectorization) layer."
   ]
  },
  {
   "cell_type": "code",
   "execution_count": 23,
   "metadata": {},
   "outputs": [],
   "source": [
    "def custom_standardization(input_data):\n",
    "    '''Standarize the input text transforming into lowecarse, stripping the text removing <br> HTML tags \n",
    "\n",
    "    Args:\n",
    "        input_data (list or str): Input text\n",
    "\n",
    "    Returns:\n",
    "        Tensor: String processed\n",
    "    '''\n",
    "    lowercase = tf.strings.lower(input_data)\n",
    "    stripped_html = tf.strings.regex_replace(lowercase, '<br />', ' ')\n",
    "    return tf.strings.regex_replace(stripped_html,\n",
    "                                  '[%s]' % re.escape(string.punctuation),'')"
   ]
  },
  {
   "cell_type": "code",
   "execution_count": 32,
   "metadata": {},
   "outputs": [
    {
     "data": {
      "text/plain": [
       "<tf.Tensor: shape=(2,), dtype=string, numpy=array([b'hola', b'adios'], dtype=object)>"
      ]
     },
     "execution_count": 32,
     "metadata": {},
     "output_type": "execute_result"
    }
   ],
   "source": [
    "custom_standardization('hola')\n",
    "custom_standardization(['Hola', 'adios'])"
   ]
  },
  {
   "cell_type": "markdown",
   "metadata": {},
   "source": [
    "Next we will define a TextVectorization layer"
   ]
  },
  {
   "cell_type": "code",
   "execution_count": 33,
   "metadata": {},
   "outputs": [],
   "source": [
    "max_features = 10000\n",
    "sequence_length = 250\n",
    "\n",
    "vectorize_layer = tf.keras.layers.TextVectorization(\n",
    "    standardize=custom_standardization,\n",
    "    max_tokens=max_features,\n",
    "    output_mode='int',\n",
    "    output_sequence_length=sequence_length)"
   ]
  },
  {
   "cell_type": "markdown",
   "metadata": {},
   "source": [
    "Next, we will call adapt to fit the state of the preprocessing layer to the dataset. This will cause the model to build an index of strings to integers."
   ]
  },
  {
   "cell_type": "code",
   "execution_count": null,
   "metadata": {},
   "outputs": [],
   "source": []
  }
 ],
 "metadata": {
  "kernelspec": {
   "display_name": "Python 3.8.0 ('venvexamtest': venv)",
   "language": "python",
   "name": "python3"
  },
  "language_info": {
   "codemirror_mode": {
    "name": "ipython",
    "version": 3
   },
   "file_extension": ".py",
   "mimetype": "text/x-python",
   "name": "python",
   "nbconvert_exporter": "python",
   "pygments_lexer": "ipython3",
   "version": "3.8.0"
  },
  "orig_nbformat": 4,
  "vscode": {
   "interpreter": {
    "hash": "373d3e7cbea966384a5701808bba18ed856078e7aa2d3f0c977f17282a4a9da3"
   }
  }
 },
 "nbformat": 4,
 "nbformat_minor": 2
}
