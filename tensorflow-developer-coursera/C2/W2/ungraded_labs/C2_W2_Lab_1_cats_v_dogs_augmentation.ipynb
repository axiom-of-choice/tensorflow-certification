{
 "cells": [
  {
   "cell_type": "markdown",
   "metadata": {},
   "source": [
    "<a href=\"https://colab.research.google.com/github/https-deeplearning-ai/tensorflow-1-public/blob/master/C2/W2/ungraded_labs/C2_W2_Lab_1_cats_v_dogs_augmentation.ipynb\" target=\"_parent\"><img src=\"https://colab.research.google.com/assets/colab-badge.svg\" alt=\"Open In Colab\"/></a>"
   ]
  },
  {
   "cell_type": "markdown",
   "metadata": {
    "id": "gGxCD4mGHHjG"
   },
   "source": [
    "# Ungraded Lab: Data Augmentation\n",
    "\n",
    "In the previous lessons, you saw that having a high training accuracy does not automatically mean having a good predictive model. It can still perform poorly on new data because it has overfit to the training set. In this lab, you will see how to avoid that using _data augmentation_. This increases the amount of training data by modifying the existing training data's properties. For example, in image data, you can apply different preprocessing techniques such as rotate, flip, shear, or zoom on your existing images so you can simulate other data that the model should also learn from. This way, the model would see more variety in the images during training so it will infer better on new, previously unseen data.\n",
    "\n",
    "Let's see how you can do this in the following sections."
   ]
  },
  {
   "cell_type": "code",
   "execution_count": null,
   "metadata": {},
   "outputs": [],
   "source": [
    "# Install this package to use Colab's GPU for training\n",
    "!apt install --allow-change-held-packages libcudnn8=8.4.1.50-1+cuda11.6"
   ]
  },
  {
   "cell_type": "markdown",
   "metadata": {
    "id": "kJJqX4DxcQs8"
   },
   "source": [
    "## Baseline Performance\n",
    "\n",
    "You will start with a model that's very effective at learning `Cats vs Dogs` without data augmentation. It's similar to the previous models that you have used. Note that there are four convolutional layers with 32, 64, 128 and 128 convolutions respectively. The code is basically the same from the previous lab so we won't go over the details step by step since you've already seen it before.\n",
    "\n",
    "You will train only for 20 epochs to save time but feel free to increase this if you want."
   ]
  },
  {
   "cell_type": "code",
   "execution_count": 1,
   "metadata": {
    "id": "zJZIF29-dIRv"
   },
   "outputs": [
    {
     "name": "stdout",
     "output_type": "stream",
     "text": [
      "--2022-09-22 22:37:29--  https://storage.googleapis.com/tensorflow-1-public/course2/cats_and_dogs_filtered.zip\n",
      "Resolving storage.googleapis.com (storage.googleapis.com)... 2607:f8b0:4012:812::2010, 2607:f8b0:4012:813::2010, 2607:f8b0:4012:814::2010, ...\n",
      "Connecting to storage.googleapis.com (storage.googleapis.com)|2607:f8b0:4012:812::2010|:443... connected.\n",
      "HTTP request sent, awaiting response... 200 OK\n",
      "Length: 68606236 (65M) [application/zip]\n",
      "Saving to: ‘cats_and_dogs_filtered.zip’\n",
      "\n",
      "cats_and_dogs_filte 100%[===================>]  65.43M  17.0MB/s    in 3.9s    \n",
      "\n",
      "2022-09-22 22:37:33 (16.9 MB/s) - ‘cats_and_dogs_filtered.zip’ saved [68606236/68606236]\n",
      "\n"
     ]
    }
   ],
   "source": [
    "# Download the dataset\n",
    "!wget https://storage.googleapis.com/tensorflow-1-public/course2/cats_and_dogs_filtered.zip"
   ]
  },
  {
   "cell_type": "code",
   "execution_count": 2,
   "metadata": {
    "id": "_DyUfCTgdwa8"
   },
   "outputs": [],
   "source": [
    "import os\n",
    "import zipfile\n",
    "\n",
    "# Extract the archive\n",
    "zip_ref = zipfile.ZipFile(\"./cats_and_dogs_filtered.zip\", 'r')\n",
    "zip_ref.extractall(\"tmp/\")\n",
    "zip_ref.close()\n",
    "\n",
    "# Assign training and validation set directories\n",
    "base_dir = 'tmp/cats_and_dogs_filtered'\n",
    "train_dir = os.path.join(base_dir, 'train')\n",
    "validation_dir = os.path.join(base_dir, 'validation')\n",
    "\n",
    "# Directory with training cat pictures\n",
    "train_cats_dir = os.path.join(train_dir, 'cats')\n",
    "\n",
    "# Directory with training dog pictures\n",
    "train_dogs_dir = os.path.join(train_dir, 'dogs')\n",
    "\n",
    "# Directory with validation cat pictures\n",
    "validation_cats_dir = os.path.join(validation_dir, 'cats')\n",
    "\n",
    "# Directory with validation dog pictures\n",
    "validation_dogs_dir = os.path.join(validation_dir, 'dogs')"
   ]
  },
  {
   "cell_type": "markdown",
   "metadata": {
    "id": "Ub_BdOJIfZ_Q"
   },
   "source": [
    "You will place the model creation inside a function so you can easily initialize a new one when you use data augmentation later in this notebook."
   ]
  },
  {
   "cell_type": "code",
   "execution_count": 3,
   "metadata": {
    "id": "uWllK_Wad-Mx"
   },
   "outputs": [
    {
     "name": "stderr",
     "output_type": "stream",
     "text": [
      "2022-09-22 22:39:21.003828: I tensorflow/core/util/util.cc:169] oneDNN custom operations are on. You may see slightly different numerical results due to floating-point round-off errors from different computation orders. To turn them off, set the environment variable `TF_ENABLE_ONEDNN_OPTS=0`.\n",
      "2022-09-22 22:39:21.055905: W tensorflow/stream_executor/platform/default/dso_loader.cc:64] Could not load dynamic library 'libcudart.so.11.0'; dlerror: libcudart.so.11.0: cannot open shared object file: No such file or directory\n",
      "2022-09-22 22:39:21.055917: I tensorflow/stream_executor/cuda/cudart_stub.cc:29] Ignore above cudart dlerror if you do not have a GPU set up on your machine.\n"
     ]
    }
   ],
   "source": [
    "import tensorflow as tf\n",
    "from tensorflow.keras.optimizers import RMSprop\n",
    "\n",
    "def create_model():\n",
    "  '''Creates a CNN with 4 convolutional layers'''\n",
    "  model = tf.keras.models.Sequential([\n",
    "      tf.keras.layers.Conv2D(32, (3,3), activation='relu', input_shape=(150, 150, 3)),\n",
    "      tf.keras.layers.MaxPooling2D(2, 2),\n",
    "      tf.keras.layers.Conv2D(64, (3,3), activation='relu'),\n",
    "      tf.keras.layers.MaxPooling2D(2,2),\n",
    "      tf.keras.layers.Conv2D(128, (3,3), activation='relu'),\n",
    "      tf.keras.layers.MaxPooling2D(2,2),\n",
    "      tf.keras.layers.Conv2D(128, (3,3), activation='relu'),\n",
    "      tf.keras.layers.MaxPooling2D(2,2),\n",
    "      tf.keras.layers.Flatten(),\n",
    "      tf.keras.layers.Dense(512, activation='relu'),\n",
    "      tf.keras.layers.Dense(1, activation='sigmoid')\n",
    "  ])\n",
    "\n",
    "  model.compile(loss='binary_crossentropy',\n",
    "                optimizer=RMSprop(learning_rate=1e-4),\n",
    "                metrics=['accuracy'])\n",
    "  \n",
    "  return model"
   ]
  },
  {
   "cell_type": "code",
   "execution_count": 4,
   "metadata": {
    "id": "MJPyDEzOqrKB"
   },
   "outputs": [
    {
     "name": "stdout",
     "output_type": "stream",
     "text": [
      "Found 2000 images belonging to 2 classes.\n",
      "Found 1000 images belonging to 2 classes.\n"
     ]
    }
   ],
   "source": [
    "from tensorflow.keras.preprocessing.image import ImageDataGenerator\n",
    "\n",
    "# All images will be rescaled by 1./255\n",
    "train_datagen = ImageDataGenerator(rescale=1./255)\n",
    "test_datagen = ImageDataGenerator(rescale=1./255)\n",
    "\n",
    "# Flow training images in batches of 20 using train_datagen generator\n",
    "train_generator = train_datagen.flow_from_directory(\n",
    "        train_dir,  # This is the source directory for training images\n",
    "        target_size=(150, 150),  # All images will be resized to 150x150\n",
    "        batch_size=20,\n",
    "        # Since we use binary_crossentropy loss, we need binary labels\n",
    "        class_mode='binary')\n",
    "\n",
    "# Flow validation images in batches of 20 using test_datagen generator\n",
    "validation_generator = test_datagen.flow_from_directory(\n",
    "        validation_dir,\n",
    "        target_size=(150, 150),\n",
    "        batch_size=20,\n",
    "        class_mode='binary')"
   ]
  },
  {
   "cell_type": "code",
   "execution_count": 5,
   "metadata": {
    "id": "hdqUoF44esR3"
   },
   "outputs": [
    {
     "name": "stderr",
     "output_type": "stream",
     "text": [
      "2022-09-22 22:39:46.854104: W tensorflow/stream_executor/platform/default/dso_loader.cc:64] Could not load dynamic library 'libcuda.so.1'; dlerror: libcuda.so.1: cannot open shared object file: No such file or directory\n",
      "2022-09-22 22:39:46.854119: W tensorflow/stream_executor/cuda/cuda_driver.cc:269] failed call to cuInit: UNKNOWN ERROR (303)\n",
      "2022-09-22 22:39:46.854130: I tensorflow/stream_executor/cuda/cuda_diagnostics.cc:156] kernel driver does not appear to be running on this host (cargamos-dev): /proc/driver/nvidia/version does not exist\n",
      "2022-09-22 22:39:46.854504: I tensorflow/core/platform/cpu_feature_guard.cc:193] This TensorFlow binary is optimized with oneAPI Deep Neural Network Library (oneDNN) to use the following CPU instructions in performance-critical operations:  AVX2 AVX512F AVX512_VNNI FMA\n",
      "To enable them in other operations, rebuild TensorFlow with the appropriate compiler flags.\n"
     ]
    },
    {
     "name": "stdout",
     "output_type": "stream",
     "text": [
      "Epoch 1/20\n",
      "100/100 - 17s - loss: 0.6877 - accuracy: 0.5245 - val_loss: 0.6706 - val_accuracy: 0.5400 - 17s/epoch - 172ms/step\n",
      "Epoch 2/20\n",
      "100/100 - 18s - loss: 0.6523 - accuracy: 0.6165 - val_loss: 0.6301 - val_accuracy: 0.6500 - 18s/epoch - 177ms/step\n",
      "Epoch 3/20\n",
      "100/100 - 18s - loss: 0.5973 - accuracy: 0.6760 - val_loss: 0.6052 - val_accuracy: 0.6570 - 18s/epoch - 183ms/step\n",
      "Epoch 4/20\n",
      "100/100 - 18s - loss: 0.5550 - accuracy: 0.7170 - val_loss: 0.5856 - val_accuracy: 0.6830 - 18s/epoch - 178ms/step\n",
      "Epoch 5/20\n",
      "100/100 - 18s - loss: 0.5344 - accuracy: 0.7290 - val_loss: 0.5863 - val_accuracy: 0.6880 - 18s/epoch - 185ms/step\n",
      "Epoch 6/20\n",
      "100/100 - 18s - loss: 0.5013 - accuracy: 0.7450 - val_loss: 0.5681 - val_accuracy: 0.7250 - 18s/epoch - 185ms/step\n",
      "Epoch 7/20\n",
      "100/100 - 18s - loss: 0.4806 - accuracy: 0.7660 - val_loss: 0.5616 - val_accuracy: 0.7100 - 18s/epoch - 184ms/step\n",
      "Epoch 8/20\n",
      "100/100 - 19s - loss: 0.4478 - accuracy: 0.7930 - val_loss: 0.5597 - val_accuracy: 0.7060 - 19s/epoch - 189ms/step\n",
      "Epoch 9/20\n",
      "100/100 - 19s - loss: 0.4265 - accuracy: 0.8055 - val_loss: 0.5769 - val_accuracy: 0.7090 - 19s/epoch - 187ms/step\n",
      "Epoch 10/20\n",
      "100/100 - 18s - loss: 0.3945 - accuracy: 0.8210 - val_loss: 0.5650 - val_accuracy: 0.7190 - 18s/epoch - 182ms/step\n",
      "Epoch 11/20\n",
      "100/100 - 19s - loss: 0.3657 - accuracy: 0.8475 - val_loss: 0.5599 - val_accuracy: 0.7350 - 19s/epoch - 187ms/step\n",
      "Epoch 12/20\n",
      "100/100 - 19s - loss: 0.3454 - accuracy: 0.8470 - val_loss: 0.5589 - val_accuracy: 0.7330 - 19s/epoch - 185ms/step\n",
      "Epoch 13/20\n",
      "100/100 - 18s - loss: 0.3234 - accuracy: 0.8595 - val_loss: 0.5468 - val_accuracy: 0.7400 - 18s/epoch - 179ms/step\n",
      "Epoch 14/20\n",
      "100/100 - 18s - loss: 0.2932 - accuracy: 0.8780 - val_loss: 0.5591 - val_accuracy: 0.7430 - 18s/epoch - 179ms/step\n",
      "Epoch 15/20\n",
      "100/100 - 18s - loss: 0.2704 - accuracy: 0.8950 - val_loss: 0.5739 - val_accuracy: 0.7450 - 18s/epoch - 178ms/step\n",
      "Epoch 16/20\n",
      "100/100 - 18s - loss: 0.2420 - accuracy: 0.9020 - val_loss: 0.6016 - val_accuracy: 0.7450 - 18s/epoch - 180ms/step\n",
      "Epoch 17/20\n",
      "100/100 - 19s - loss: 0.2237 - accuracy: 0.9200 - val_loss: 0.6083 - val_accuracy: 0.7340 - 19s/epoch - 190ms/step\n",
      "Epoch 18/20\n",
      "100/100 - 19s - loss: 0.2022 - accuracy: 0.9215 - val_loss: 0.7201 - val_accuracy: 0.7120 - 19s/epoch - 185ms/step\n",
      "Epoch 19/20\n",
      "100/100 - 18s - loss: 0.1730 - accuracy: 0.9350 - val_loss: 0.6255 - val_accuracy: 0.7530 - 18s/epoch - 179ms/step\n",
      "Epoch 20/20\n",
      "100/100 - 19s - loss: 0.1527 - accuracy: 0.9460 - val_loss: 0.6880 - val_accuracy: 0.7370 - 19s/epoch - 186ms/step\n"
     ]
    }
   ],
   "source": [
    "# Constant for epochs\n",
    "EPOCHS = 20\n",
    "\n",
    "# Create a new model\n",
    "model = create_model()\n",
    "\n",
    "# Train the model\n",
    "history = model.fit(\n",
    "      train_generator,\n",
    "      steps_per_epoch=100,  # 2000 images = batch_size * steps\n",
    "      epochs=EPOCHS,\n",
    "      validation_data=validation_generator,\n",
    "      validation_steps=50,  # 1000 images = batch_size * steps\n",
    "      verbose=2)"
   ]
  },
  {
   "cell_type": "markdown",
   "metadata": {
    "id": "Y-G0Am4cguNt"
   },
   "source": [
    "You will then visualize the loss and accuracy with respect to the training and validation set. You will again use a convenience function so it can be reused later. This function accepts a [History](https://www.tensorflow.org/api_docs/python/tf/keras/callbacks/History) object which contains the results of the `fit()` method you ran above."
   ]
  },
  {
   "cell_type": "code",
   "execution_count": 6,
   "metadata": {
    "id": "GZWPcmKWO303"
   },
   "outputs": [],
   "source": [
    "import matplotlib.pyplot as plt\n",
    "\n",
    "def plot_loss_acc(history):\n",
    "  '''Plots the training and validation loss and accuracy from a history object'''\n",
    "  acc = history.history['accuracy']\n",
    "  val_acc = history.history['val_accuracy']\n",
    "  loss = history.history['loss']\n",
    "  val_loss = history.history['val_loss']\n",
    "\n",
    "  epochs = range(len(acc))\n",
    "\n",
    "  plt.plot(epochs, acc, 'bo', label='Training accuracy')\n",
    "  plt.plot(epochs, val_acc, 'b', label='Validation accuracy')\n",
    "  plt.title('Training and validation accuracy')\n",
    "\n",
    "  plt.figure()\n",
    "\n",
    "  plt.plot(epochs, loss, 'bo', label='Training Loss')\n",
    "  plt.plot(epochs, val_loss, 'b', label='Validation Loss')\n",
    "  plt.title('Training and validation loss')\n",
    "  plt.legend()\n",
    "\n",
    "  plt.show()"
   ]
  },
  {
   "cell_type": "code",
   "execution_count": 7,
   "metadata": {
    "id": "Vojz4NYXiT_f"
   },
   "outputs": [
    {
     "data": {
      "image/png": "[encoded data removed]",
      "text/plain": [
       "<Figure size 432x288 with 1 Axes>"
      ]
     },
     "metadata": {},
     "output_type": "display_data"
    },
    {
     "data": {
      "image/png": "[encoded data removed]",
      "text/plain": [
       "<Figure size 432x288 with 1 Axes>"
      ]
     },
     "metadata": {},
     "output_type": "display_data"
    }
   ],
   "source": [
    "# Plot training results\n",
    "plot_loss_acc(history)"
   ]
  },
  {
   "cell_type": "markdown",
   "metadata": {
    "id": "zb81GvNov-Tg"
   },
   "source": [
    "From the results above, you'll see the training accuracy is more than 90%, and the validation accuracy is in the 70%-80% range. This is a great example of _overfitting_ -- which in short means that it can do very well with images it has seen before, but not so well with images it hasn't.\n"
   ]
  },
  {
   "cell_type": "markdown",
   "metadata": {
    "id": "5KBz-vFbjLZX"
   },
   "source": [
    "## Data augmentation\n",
    "\n",
    "One simple method to avoid overfitting is to augment the images a bit. If you think about it, most pictures of a cat are very similar -- the ears are at the top, then the eyes, then the mouth etc. Things like the distance between the eyes and ears will always be quite similar too. \n",
    "\n",
    "What if you tweak with the images a bit -- rotate the image, squash it, etc.  That's what image augementation is all about. And there's an API that makes it easy!\n",
    "\n",
    "Take a look at the [ImageDataGenerator](https://www.tensorflow.org/api_docs/python/tf/keras/preprocessing/image/ImageDataGenerator) which you have been using to rescale the image. There are other properties on it that you can use to augment the image. \n",
    "\n",
    "```\n",
    "# Updated to do image augmentation\n",
    "train_datagen = ImageDataGenerator(\n",
    "      rotation_range=40,\n",
    "      width_shift_range=0.2,\n",
    "      height_shift_range=0.2,\n",
    "      shear_range=0.2,\n",
    "      zoom_range=0.2,\n",
    "      horizontal_flip=True,\n",
    "      fill_mode='nearest')\n",
    "```\n",
    "\n",
    "These are just a few of the options available. Let's quickly go over it:\n",
    "\n",
    "* `rotation_range` is a value in degrees (0–180) within which to randomly rotate pictures.\n",
    "* `width_shift` and `height_shift` are ranges (as a fraction of total width or height) within which to randomly translate pictures vertically or horizontally.\n",
    "* `shear_range` is for randomly applying shearing transformations.\n",
    "* `zoom_range` is for randomly zooming inside pictures.\n",
    "* `horizontal_flip` is for randomly flipping half of the images horizontally. This is relevant when there are no assumptions of horizontal assymmetry (e.g. real-world pictures).\n",
    "* `fill_mode` is the strategy used for filling in newly created pixels, which can appear after a rotation or a width/height shift.\n",
    "\n",
    "\n",
    "Run the next cells to see the impact on the results. The code is similar to the baseline but the definition of `train_datagen` has been updated to use the parameters described above.\n"
   ]
  },
  {
   "cell_type": "code",
   "execution_count": 8,
   "metadata": {
    "id": "UK7_Fflgv8YC"
   },
   "outputs": [
    {
     "name": "stdout",
     "output_type": "stream",
     "text": [
      "Found 2000 images belonging to 2 classes.\n",
      "Found 1000 images belonging to 2 classes.\n",
      "Epoch 1/20\n",
      "100/100 - 18s - loss: 0.6945 - accuracy: 0.5165 - val_loss: 0.6826 - val_accuracy: 0.5050 - 18s/epoch - 183ms/step\n",
      "Epoch 2/20\n",
      "100/100 - 18s - loss: 0.6844 - accuracy: 0.5455 - val_loss: 0.6616 - val_accuracy: 0.6020 - 18s/epoch - 183ms/step\n",
      "Epoch 3/20\n",
      "100/100 - 19s - loss: 0.6685 - accuracy: 0.6015 - val_loss: 0.6353 - val_accuracy: 0.6380 - 19s/epoch - 187ms/step\n",
      "Epoch 4/20\n",
      "100/100 - 19s - loss: 0.6487 - accuracy: 0.6075 - val_loss: 0.6429 - val_accuracy: 0.5900 - 19s/epoch - 192ms/step\n",
      "Epoch 5/20\n",
      "100/100 - 19s - loss: 0.6352 - accuracy: 0.6365 - val_loss: 0.5805 - val_accuracy: 0.7020 - 19s/epoch - 193ms/step\n",
      "Epoch 6/20\n",
      "100/100 - 19s - loss: 0.6222 - accuracy: 0.6385 - val_loss: 0.6707 - val_accuracy: 0.5950 - 19s/epoch - 190ms/step\n",
      "Epoch 7/20\n",
      "100/100 - 19s - loss: 0.6157 - accuracy: 0.6560 - val_loss: 0.5650 - val_accuracy: 0.6980 - 19s/epoch - 189ms/step\n",
      "Epoch 8/20\n",
      "100/100 - 19s - loss: 0.5965 - accuracy: 0.6765 - val_loss: 0.6193 - val_accuracy: 0.6520 - 19s/epoch - 190ms/step\n",
      "Epoch 9/20\n",
      "100/100 - 19s - loss: 0.5914 - accuracy: 0.6890 - val_loss: 0.5747 - val_accuracy: 0.6850 - 19s/epoch - 193ms/step\n",
      "Epoch 10/20\n",
      "100/100 - 19s - loss: 0.5827 - accuracy: 0.6875 - val_loss: 0.5577 - val_accuracy: 0.7010 - 19s/epoch - 190ms/step\n",
      "Epoch 11/20\n",
      "100/100 - 19s - loss: 0.5860 - accuracy: 0.6975 - val_loss: 0.5336 - val_accuracy: 0.7240 - 19s/epoch - 192ms/step\n",
      "Epoch 12/20\n",
      "100/100 - 19s - loss: 0.5656 - accuracy: 0.6970 - val_loss: 0.5335 - val_accuracy: 0.7200 - 19s/epoch - 192ms/step\n",
      "Epoch 13/20\n",
      "100/100 - 19s - loss: 0.5664 - accuracy: 0.7010 - val_loss: 0.5319 - val_accuracy: 0.7160 - 19s/epoch - 190ms/step\n",
      "Epoch 14/20\n",
      "100/100 - 19s - loss: 0.5680 - accuracy: 0.7030 - val_loss: 0.5392 - val_accuracy: 0.7070 - 19s/epoch - 190ms/step\n",
      "Epoch 15/20\n",
      "100/100 - 19s - loss: 0.5554 - accuracy: 0.7145 - val_loss: 0.5317 - val_accuracy: 0.7200 - 19s/epoch - 193ms/step\n",
      "Epoch 16/20\n",
      "100/100 - 19s - loss: 0.5534 - accuracy: 0.7095 - val_loss: 0.5131 - val_accuracy: 0.7390 - 19s/epoch - 191ms/step\n",
      "Epoch 17/20\n",
      "100/100 - 19s - loss: 0.5524 - accuracy: 0.7165 - val_loss: 0.5394 - val_accuracy: 0.7220 - 19s/epoch - 193ms/step\n",
      "Epoch 18/20\n",
      "100/100 - 19s - loss: 0.5445 - accuracy: 0.7205 - val_loss: 0.5104 - val_accuracy: 0.7340 - 19s/epoch - 190ms/step\n",
      "Epoch 19/20\n",
      "100/100 - 19s - loss: 0.5405 - accuracy: 0.7155 - val_loss: 0.4959 - val_accuracy: 0.7470 - 19s/epoch - 193ms/step\n",
      "Epoch 20/20\n",
      "100/100 - 19s - loss: 0.5467 - accuracy: 0.7215 - val_loss: 0.5068 - val_accuracy: 0.7340 - 19s/epoch - 191ms/step\n"
     ]
    }
   ],
   "source": [
    "# Create new model\n",
    "model_for_aug = create_model()\n",
    "\n",
    "# This code has changed. Now instead of the ImageGenerator just rescaling\n",
    "# the image, we also rotate and do other operations\n",
    "train_datagen = ImageDataGenerator(\n",
    "      rescale=1./255,\n",
    "      rotation_range=40,\n",
    "      width_shift_range=0.2,\n",
    "      height_shift_range=0.2,\n",
    "      shear_range=0.2,\n",
    "      zoom_range=0.2,\n",
    "      horizontal_flip=True,\n",
    "      fill_mode='nearest')\n",
    "\n",
    "test_datagen = ImageDataGenerator(rescale=1./255)\n",
    "\n",
    "# Flow training images in batches of 20 using train_datagen generator\n",
    "train_generator = train_datagen.flow_from_directory(\n",
    "        train_dir,  # This is the source directory for training images\n",
    "        target_size=(150, 150),  # All images will be resized to 150x150\n",
    "        batch_size=20,\n",
    "        # Since we use binary_crossentropy loss, we need binary labels\n",
    "        class_mode='binary')\n",
    "\n",
    "# Flow validation images in batches of 20 using test_datagen generator\n",
    "validation_generator = test_datagen.flow_from_directory(\n",
    "        validation_dir,\n",
    "        target_size=(150, 150),\n",
    "        batch_size=20,\n",
    "        class_mode='binary')\n",
    "\n",
    "# Train the new model\n",
    "history_with_aug = model_for_aug.fit(\n",
    "      train_generator,\n",
    "      steps_per_epoch=100,  # 2000 images = batch_size * steps\n",
    "      epochs=EPOCHS,\n",
    "      validation_data=validation_generator,\n",
    "      validation_steps=50,  # 1000 images = batch_size * steps\n",
    "      verbose=2)"
   ]
  },
  {
   "cell_type": "code",
   "execution_count": 9,
   "metadata": {
    "id": "bnyRnwopT5aW"
   },
   "outputs": [
    {
     "data": {
      "image/png": "[encoded data removed]",
      "text/plain": [
       "<Figure size 432x288 with 1 Axes>"
      ]
     },
     "metadata": {},
     "output_type": "display_data"
    },
    {
     "data": {
      "image/png": "[encoded data removed]",
      "text/plain": [
       "<Figure size 432x288 with 1 Axes>"
      ]
     },
     "metadata": {},
     "output_type": "display_data"
    }
   ],
   "source": [
    "# Plot the results of training with data augmentation\n",
    "plot_loss_acc(history_with_aug)"
   ]
  },
  {
   "cell_type": "markdown",
   "metadata": {
    "id": "1D1hd5fqmJUx"
   },
   "source": [
    "As you can see, the training accuracy has gone down compared to the baseline. This is expected because (as a result of data augmentation) there are more variety in the images so the model will need more runs to learn from them. The good thing is the validation accuracy is no longer stalling and is more in line with the training results. This means that the model is now performing better on unseen data. \n",
    "\n",
    "\n"
   ]
  },
  {
   "cell_type": "markdown",
   "metadata": {
    "id": "z4B9b6GPnKg1"
   },
   "source": [
    "## Wrap Up\n",
    "\n",
    "This exercise showed a simple trick to avoid overfitting. You can improve your baseline results by simply tweaking the same images you have already. The `ImageDataGenerator` class has built-in parameters to do just that. Try to modify the values some more in the `train_datagen` and see what results you get.\n",
    "\n",
    "Take note that this will not work for all cases. In the next lesson, Laurence will show a scenario where data augmentation will not help improve your validation accuracy."
   ]
  }
 ],
 "metadata": {
  "accelerator": "GPU",
  "colab": {
   "collapsed_sections": [],
   "name": "C2_W2_Lab_1_cats_v_dogs_augmentation.ipynb",
   "private_outputs": true,
   "provenance": [
    {
     "file_id": "https://github.com/https-deeplearning-ai/tensorflow-1-public/blob/adding_C2/C2/W2/ungraded_labs/C2_W2_Lab_1_cats_v_dogs_augmentation.ipynb",
     "timestamp": 1639637705486
    }
   ]
  },
  "kernelspec": {
   "display_name": "venv",
   "language": "python",
   "name": "venv"
  },
  "language_info": {
   "codemirror_mode": {
    "name": "ipython",
    "version": 3
   },
   "file_extension": ".py",
   "mimetype": "text/x-python",
   "name": "python",
   "nbconvert_exporter": "python",
   "pygments_lexer": "ipython3",
   "version": "3.10.4"
  }
 },
 "nbformat": 4,
 "nbformat_minor": 1
}
