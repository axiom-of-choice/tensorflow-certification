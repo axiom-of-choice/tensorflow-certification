{
 "cells": [
  {
   "cell_type": "markdown",
   "metadata": {},
   "source": [
    "<a href=\"https://colab.research.google.com/github/https-deeplearning-ai/tensorflow-1-public/blob/master/C2/W2/ungraded_labs/C2_W2_Lab_2_horses_v_humans_augmentation.ipynb\" target=\"_parent\"><img src=\"https://colab.research.google.com/assets/colab-badge.svg\" alt=\"Open In Colab\"/></a>"
   ]
  },
  {
   "cell_type": "markdown",
   "metadata": {
    "id": "37v_yExZppEp"
   },
   "source": [
    "# Ungraded Lab: Data Augmentation on the Horses or Humans Dataset\n",
    "\n",
    "In the previous lab, you saw how data augmentation helped improve the model's performance on unseen data. By tweaking the cat and dog training images, the model was able to learn features that are also representative of the validation data. However, applying data augmentation requires good understanding of your dataset. Simply transforming it randomly will not always yield good results. \n",
    "\n",
    "In the next cells, you will apply the same techniques to the `Horses or Humans` dataset and analyze the results."
   ]
  },
  {
   "cell_type": "code",
   "execution_count": null,
   "metadata": {},
   "outputs": [],
   "source": [
    "# Install this package to use Colab's GPU for training\n",
    "!apt install --allow-change-held-packages libcudnn8=8.4.1.50-1+cuda11.6"
   ]
  },
  {
   "cell_type": "code",
   "execution_count": 1,
   "metadata": {
    "id": "Lslf0vB3rQlU"
   },
   "outputs": [
    {
     "name": "stdout",
     "output_type": "stream",
     "text": [
      "--2022-09-22 23:30:34--  https://storage.googleapis.com/tensorflow-1-public/course2/week3/horse-or-human.zip\n",
      "Resolving storage.googleapis.com (storage.googleapis.com)... 2607:f8b0:4012:811::2010, 2607:f8b0:4012:812::2010, 2607:f8b0:4012:813::2010, ...\n",
      "Connecting to storage.googleapis.com (storage.googleapis.com)|2607:f8b0:4012:811::2010|:443... connected.\n",
      "HTTP request sent, awaiting response... 200 OK\n",
      "Length: 149574867 (143M) [application/zip]\n",
      "Saving to: ‘horse-or-human.zip’\n",
      "\n",
      "horse-or-human.zip  100%[===================>] 142.65M  13.6MB/s    in 11s     \n",
      "\n",
      "2022-09-22 23:30:46 (13.0 MB/s) - ‘horse-or-human.zip’ saved [149574867/149574867]\n",
      "\n"
     ]
    }
   ],
   "source": [
    "# Download the training set\n",
    "!wget https://storage.googleapis.com/tensorflow-1-public/course2/week3/horse-or-human.zip"
   ]
  },
  {
   "cell_type": "code",
   "execution_count": 2,
   "metadata": {},
   "outputs": [
    {
     "name": "stdout",
     "output_type": "stream",
     "text": [
      "--2022-09-22 23:30:57--  https://storage.googleapis.com/tensorflow-1-public/course2/week3/validation-horse-or-human.zip\n",
      "Resolving storage.googleapis.com (storage.googleapis.com)... 2607:f8b0:4012:819::2010, 2607:f8b0:4012:814::2010, 2607:f8b0:4012:817::2010, ...\n",
      "Connecting to storage.googleapis.com (storage.googleapis.com)|2607:f8b0:4012:819::2010|:443... connected.\n",
      "HTTP request sent, awaiting response... 200 OK\n",
      "Length: 11480187 (11M) [application/zip]\n",
      "Saving to: ‘validation-horse-or-human.zip’\n",
      "\n",
      "validation-horse-or 100%[===================>]  10.95M  18.9MB/s    in 0.6s    \n",
      "\n",
      "2022-09-22 23:30:58 (18.9 MB/s) - ‘validation-horse-or-human.zip’ saved [11480187/11480187]\n",
      "\n"
     ]
    }
   ],
   "source": [
    "# Download the validation set\n",
    "!wget https://storage.googleapis.com/tensorflow-1-public/course2/week3/validation-horse-or-human.zip"
   ]
  },
  {
   "cell_type": "code",
   "execution_count": 3,
   "metadata": {
    "id": "RXZT2UsyIVe_"
   },
   "outputs": [],
   "source": [
    "import os\n",
    "import zipfile\n",
    "\n",
    "# Extract the archive\n",
    "zip_ref = zipfile.ZipFile('./horse-or-human.zip', 'r')\n",
    "zip_ref.extractall('tmp/horse-or-human')\n",
    "\n",
    "zip_ref = zipfile.ZipFile('./validation-horse-or-human.zip', 'r')\n",
    "zip_ref.extractall('tmp/validation-horse-or-human')\n",
    "\n",
    "zip_ref.close()\n",
    "\n",
    "# Directory with training horse pictures\n",
    "train_horse_dir = os.path.join('tmp/horse-or-human/horses')\n",
    "\n",
    "# Directory with training human pictures\n",
    "train_human_dir = os.path.join('tmp/horse-or-human/humans')\n",
    "\n",
    "# Directory with training horse pictures\n",
    "validation_horse_dir = os.path.join('tmp/validation-horse-or-human/horses')\n",
    "\n",
    "# Directory with training human pictures\n",
    "validation_human_dir = os.path.join('tmp/validation-horse-or-human/humans')"
   ]
  },
  {
   "cell_type": "code",
   "execution_count": 1,
   "metadata": {
    "id": "PixZ2s5QbYQ3"
   },
   "outputs": [
    {
     "name": "stderr",
     "output_type": "stream",
     "text": [
      "2022-09-22 23:31:15.637565: I tensorflow/core/util/util.cc:169] oneDNN custom operations are on. You may see slightly different numerical results due to floating-point round-off errors from different computation orders. To turn them off, set the environment variable `TF_ENABLE_ONEDNN_OPTS=0`.\n",
      "2022-09-22 23:31:15.706396: W tensorflow/stream_executor/platform/default/dso_loader.cc:64] Could not load dynamic library 'libcudart.so.11.0'; dlerror: libcudart.so.11.0: cannot open shared object file: No such file or directory\n",
      "2022-09-22 23:31:15.706415: I tensorflow/stream_executor/cuda/cudart_stub.cc:29] Ignore above cudart dlerror if you do not have a GPU set up on your machine.\n",
      "2022-09-22 23:31:18.487774: W tensorflow/stream_executor/platform/default/dso_loader.cc:64] Could not load dynamic library 'libcuda.so.1'; dlerror: libcuda.so.1: cannot open shared object file: No such file or directory\n",
      "2022-09-22 23:31:18.487790: W tensorflow/stream_executor/cuda/cuda_driver.cc:269] failed call to cuInit: UNKNOWN ERROR (303)\n",
      "2022-09-22 23:31:18.487801: I tensorflow/stream_executor/cuda/cuda_diagnostics.cc:156] kernel driver does not appear to be running on this host (cargamos-dev): /proc/driver/nvidia/version does not exist\n",
      "2022-09-22 23:31:18.487993: I tensorflow/core/platform/cpu_feature_guard.cc:193] This TensorFlow binary is optimized with oneAPI Deep Neural Network Library (oneDNN) to use the following CPU instructions in performance-critical operations:  AVX2 AVX512F AVX512_VNNI FMA\n",
      "To enable them in other operations, rebuild TensorFlow with the appropriate compiler flags.\n"
     ]
    }
   ],
   "source": [
    "import tensorflow as tf\n",
    "\n",
    "# Build the model\n",
    "model = tf.keras.models.Sequential([\n",
    "    # Note the input shape is the desired size of the image 300x300 with 3 bytes color\n",
    "    # This is the first convolution\n",
    "    tf.keras.layers.Conv2D(16, (3,3), activation='relu', input_shape=(300, 300, 3)),\n",
    "    tf.keras.layers.MaxPooling2D(2, 2),\n",
    "    # The second convolution\n",
    "    tf.keras.layers.Conv2D(32, (3,3), activation='relu'),\n",
    "    tf.keras.layers.MaxPooling2D(2,2),\n",
    "    # The third convolution\n",
    "    tf.keras.layers.Conv2D(64, (3,3), activation='relu'),\n",
    "    tf.keras.layers.MaxPooling2D(2,2),\n",
    "    # The fourth convolution\n",
    "    tf.keras.layers.Conv2D(64, (3,3), activation='relu'),\n",
    "    tf.keras.layers.MaxPooling2D(2,2),\n",
    "    # The fifth convolution\n",
    "    tf.keras.layers.Conv2D(64, (3,3), activation='relu'),\n",
    "    tf.keras.layers.MaxPooling2D(2,2),\n",
    "    # Flatten the results to feed into a DNN\n",
    "    tf.keras.layers.Flatten(),\n",
    "    # 512 neuron hidden layer\n",
    "    tf.keras.layers.Dense(512, activation='relu'),\n",
    "    # Only 1 output neuron. It will contain a value from 0-1 where 0 for 1 class ('horses') and 1 for the other ('humans')\n",
    "    tf.keras.layers.Dense(1, activation='sigmoid')\n",
    "])"
   ]
  },
  {
   "cell_type": "code",
   "execution_count": 2,
   "metadata": {
    "id": "8DHWhFP_uhq3"
   },
   "outputs": [],
   "source": [
    "from tensorflow.keras.optimizers import RMSprop\n",
    "\n",
    "# Set training parameters\n",
    "model.compile(loss='binary_crossentropy',\n",
    "              optimizer=RMSprop(learning_rate=1e-4),\n",
    "              metrics=['accuracy'])"
   ]
  },
  {
   "cell_type": "code",
   "execution_count": 3,
   "metadata": {
    "id": "ClebU9NJg99G"
   },
   "outputs": [
    {
     "name": "stdout",
     "output_type": "stream",
     "text": [
      "Found 1027 images belonging to 2 classes.\n",
      "Found 256 images belonging to 2 classes.\n"
     ]
    }
   ],
   "source": [
    "from tensorflow.keras.preprocessing.image import ImageDataGenerator\n",
    "\n",
    "# Apply data augmentation\n",
    "train_datagen = ImageDataGenerator(\n",
    "      rescale=1./255,\n",
    "      rotation_range=40,\n",
    "      width_shift_range=0.2,\n",
    "      height_shift_range=0.2,\n",
    "      shear_range=0.2,\n",
    "      zoom_range=0.2,\n",
    "      horizontal_flip=True,\n",
    "      fill_mode='nearest')\n",
    "\n",
    "validation_datagen = ImageDataGenerator(rescale=1/255)\n",
    "\n",
    "# Flow training images in batches of 128 using train_datagen generator\n",
    "train_generator = train_datagen.flow_from_directory(\n",
    "        'tmp/horse-or-human/',  # This is the source directory for training images\n",
    "        target_size=(300, 300),  # All images will be resized to 150x150\n",
    "        batch_size=128,\n",
    "        # Since we use binary_crossentropy loss, we need binary labels\n",
    "        class_mode='binary')\n",
    "\n",
    "# Flow training images in batches of 128 using train_datagen generator\n",
    "validation_generator = validation_datagen.flow_from_directory(\n",
    "        'tmp/validation-horse-or-human/',  # This is the source directory for training images\n",
    "        target_size=(300, 300),  # All images will be resized to 150x150\n",
    "        batch_size=32,\n",
    "        # Since we use binary_crossentropy loss, we need binary labels\n",
    "        class_mode='binary')"
   ]
  },
  {
   "cell_type": "code",
   "execution_count": 4,
   "metadata": {
    "id": "Fb1_lgobv81m"
   },
   "outputs": [
    {
     "name": "stdout",
     "output_type": "stream",
     "text": [
      "Epoch 1/20\n",
      "8/8 [==============================] - 67s 7s/step - loss: 0.6922 - accuracy: 0.4983 - val_loss: 0.6830 - val_accuracy: 0.5000\n",
      "Epoch 2/20\n",
      "8/8 [==============================] - 22s 3s/step - loss: 0.6780 - accuracy: 0.5951 - val_loss: 0.6444 - val_accuracy: 0.8555\n",
      "Epoch 3/20\n",
      "8/8 [==============================] - 22s 3s/step - loss: 0.6610 - accuracy: 0.6618 - val_loss: 0.6072 - val_accuracy: 0.9648\n",
      "Epoch 4/20\n",
      "8/8 [==============================] - 24s 3s/step - loss: 0.6350 - accuracy: 0.7012 - val_loss: 0.6745 - val_accuracy: 0.5039\n",
      "Epoch 5/20\n",
      "8/8 [==============================] - 21s 3s/step - loss: 0.6572 - accuracy: 0.6674 - val_loss: 0.6142 - val_accuracy: 0.5703\n",
      "Epoch 6/20\n",
      "8/8 [==============================] - 22s 3s/step - loss: 0.5939 - accuracy: 0.7208 - val_loss: 0.5735 - val_accuracy: 0.6445\n",
      "Epoch 7/20\n",
      "8/8 [==============================] - 23s 3s/step - loss: 0.5494 - accuracy: 0.7631 - val_loss: 0.4626 - val_accuracy: 0.9570\n",
      "Epoch 8/20\n",
      "8/8 [==============================] - 21s 3s/step - loss: 0.5797 - accuracy: 0.7130 - val_loss: 0.6167 - val_accuracy: 0.5898\n",
      "Epoch 9/20\n",
      "8/8 [==============================] - 21s 3s/step - loss: 0.5137 - accuracy: 0.7653 - val_loss: 0.5778 - val_accuracy: 0.6484\n",
      "Epoch 10/20\n",
      "8/8 [==============================] - 21s 3s/step - loss: 0.5520 - accuracy: 0.7164 - val_loss: 0.5870 - val_accuracy: 0.6328\n",
      "Epoch 11/20\n",
      "8/8 [==============================] - 21s 2s/step - loss: 0.4669 - accuracy: 0.7809 - val_loss: 0.6736 - val_accuracy: 0.6133\n",
      "Epoch 12/20\n",
      "8/8 [==============================] - 23s 3s/step - loss: 0.5021 - accuracy: 0.7475 - val_loss: 0.5742 - val_accuracy: 0.6914\n",
      "Epoch 13/20\n",
      "8/8 [==============================] - 24s 3s/step - loss: 0.4323 - accuracy: 0.7998 - val_loss: 0.6604 - val_accuracy: 0.6836\n",
      "Epoch 14/20\n",
      "8/8 [==============================] - 21s 3s/step - loss: 0.6098 - accuracy: 0.7341 - val_loss: 0.8913 - val_accuracy: 0.5938\n",
      "Epoch 15/20\n",
      "8/8 [==============================] - 25s 3s/step - loss: 0.4201 - accuracy: 0.8164 - val_loss: 0.7574 - val_accuracy: 0.6680\n",
      "Epoch 16/20\n",
      "8/8 [==============================] - 22s 3s/step - loss: 0.4093 - accuracy: 0.8220 - val_loss: 0.6175 - val_accuracy: 0.7148\n",
      "Epoch 17/20\n",
      "8/8 [==============================] - 23s 3s/step - loss: 0.4416 - accuracy: 0.7910 - val_loss: 1.1638 - val_accuracy: 0.5742\n",
      "Epoch 18/20\n",
      "8/8 [==============================] - 21s 3s/step - loss: 0.4108 - accuracy: 0.8254 - val_loss: 0.9251 - val_accuracy: 0.6250\n",
      "Epoch 19/20\n",
      "8/8 [==============================] - 21s 3s/step - loss: 0.4233 - accuracy: 0.8076 - val_loss: 0.9473 - val_accuracy: 0.6445\n",
      "Epoch 20/20\n",
      "8/8 [==============================] - 21s 3s/step - loss: 0.4577 - accuracy: 0.7976 - val_loss: 0.9840 - val_accuracy: 0.6133\n"
     ]
    }
   ],
   "source": [
    "# Constant for epochs\n",
    "EPOCHS = 20\n",
    "\n",
    "# Train the model\n",
    "history = model.fit(\n",
    "      train_generator,\n",
    "      steps_per_epoch=8,  \n",
    "      epochs=EPOCHS,\n",
    "      verbose=1,\n",
    "      validation_data = validation_generator,\n",
    "      validation_steps=8)"
   ]
  },
  {
   "cell_type": "code",
   "execution_count": 5,
   "metadata": {
    "id": "7zNPRWOVJdOH"
   },
   "outputs": [
    {
     "data": {
      "image/png": "[encoded data removed]",
      "text/plain": [
       "<Figure size 432x288 with 1 Axes>"
      ]
     },
     "metadata": {},
     "output_type": "display_data"
    },
    {
     "data": {
      "image/png": "[encoded data removed]",
      "text/plain": [
       "<Figure size 432x288 with 1 Axes>"
      ]
     },
     "metadata": {},
     "output_type": "display_data"
    }
   ],
   "source": [
    "import matplotlib.pyplot as plt\n",
    "\n",
    "# Plot the model results\n",
    "acc = history.history['accuracy']\n",
    "val_acc = history.history['val_accuracy']\n",
    "loss = history.history['loss']\n",
    "val_loss = history.history['val_loss']\n",
    "\n",
    "epochs = range(len(acc))\n",
    "\n",
    "plt.plot(epochs, acc, 'r', label='Training accuracy')\n",
    "plt.plot(epochs, val_acc, 'b', label='Validation accuracy')\n",
    "plt.title('Training and validation accuracy')\n",
    "\n",
    "plt.figure()\n",
    "\n",
    "plt.plot(epochs, loss, 'r', label='Training Loss')\n",
    "plt.plot(epochs, val_loss, 'b', label='Validation Loss')\n",
    "plt.title('Training and validation loss')\n",
    "plt.legend()\n",
    "\n",
    "plt.show()"
   ]
  },
  {
   "cell_type": "markdown",
   "metadata": {
    "id": "hwyabYvCsvtn"
   },
   "source": [
    "As you can see in the results, the preprocessing techniques used in augmenting the data did not help much in the results. The validation accuracy is fluctuating and not trending up like the training accuracy. This might be because the additional training data generated still do not represent the features in the validation data. For example, some human or horse poses in the validation set cannot be mimicked by the image processing techniques that `ImageDataGenerator` provides. It might also be that the background of the training images are also learned so the white background of the validation set is throwing the model off even with cropping. Try looking at the validation images in the `tmp/validation-horse-or-human` directory (note: if you are using Colab, you can use the file explorer on the left to explore the images) and see if you can augment the training images to match its characteristics. If this is not possible, then at this point you can consider other techniques and you will see that in next week's lessons."
   ]
  }
 ],
 "metadata": {
  "accelerator": "GPU",
  "colab": {
   "collapsed_sections": [],
   "name": "C2_W2_Lab_2_horses_v_humans_augmentation.ipynb",
   "private_outputs": true,
   "provenance": [
    {
     "file_id": "https://github.com/https-deeplearning-ai/tensorflow-1-public/blob/adding_C2/C2/W2/ungraded_labs/C2_W2_Lab_2_horses_v_humans_augmentation.ipynb",
     "timestamp": 1639648217641
    }
   ]
  },
  "kernelspec": {
   "display_name": "venv",
   "language": "python",
   "name": "venv"
  },
  "language_info": {
   "codemirror_mode": {
    "name": "ipython",
    "version": 3
   },
   "file_extension": ".py",
   "mimetype": "text/x-python",
   "name": "python",
   "nbconvert_exporter": "python",
   "pygments_lexer": "ipython3",
   "version": "3.10.4"
  },
  "vscode": {
   "interpreter": {
    "hash": "7c4c4d877680183247389ebb5c8723e6fd698636444964e8e5dc6caf296cdc6f"
   }
  }
 },
 "nbformat": 4,
 "nbformat_minor": 1
}
